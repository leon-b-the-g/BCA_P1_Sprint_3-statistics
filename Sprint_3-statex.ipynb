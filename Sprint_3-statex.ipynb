{
 "cells": [
  {
   "cell_type": "code",
   "execution_count": 6,
   "metadata": {},
   "outputs": [],
   "source": [
    "import numpy as np\n",
    "\n",
    "my_numbers = (8, 12, 16, 24, 4)\n",
    "\n",
    "my_numbers_mean = 12.8\n",
    "\n",
    "#subtracting mean from each member of list then squaring. Add each result to get variance\n",
    "#23.04 + 0.64 + 10.24 + 144 + 64 = 241.92\n",
    "\n",
    "#Square root variance to get SD\n",
    "#square root of 241.92 = 15.55 \n",
    "SD = 241.92\n",
    "\n",
    "\n",
    "\n"
   ]
  },
  {
   "cell_type": "code",
   "execution_count": 20,
   "metadata": {},
   "outputs": [
    {
     "name": "stdout",
     "output_type": "stream",
     "text": [
      "12.8\n",
      "1\n",
      "2\n",
      "3\n",
      "4\n",
      "5\n",
      "6.881860213634101\n"
     ]
    }
   ],
   "source": [
    "#Exercise 1:\n",
    "##Now with NUMPY!##\n",
    "\n",
    "import numpy as np\n",
    "import math\n",
    "\n",
    "my_num_array = np.array([8, 12, 16, 24, 4])\n",
    "\n",
    "\n",
    "\n",
    "def find_SD(num_array):\n",
    "    \"\"\"finds the standard deviation from an array of numbers\"\"\"\n",
    "    variances = []\n",
    "    counter = 0\n",
    "    meanval = np.mean(num_array)\n",
    "    print(meanval)\n",
    "    while len(num_array) > counter:\n",
    "        variances.append((num_array[counter]-meanval)**2) \n",
    "        counter += 1\n",
    "        print(counter)\n",
    "    SD = math.sqrt(sum(variances)/len(num_array))\n",
    "    return SD\n",
    "\n",
    "\n",
    "#Call SD function\n",
    "mySD = find_SD(my_num_array)\n",
    "\n",
    "print(mySD)"
   ]
  },
  {
   "cell_type": "code",
   "execution_count": 24,
   "metadata": {},
   "outputs": [
    {
     "name": "stdout",
     "output_type": "stream",
     "text": [
      "[   8   12   16   24    4 2000    1    1]\n",
      "258.25\n",
      "1\n",
      "2\n",
      "3\n",
      "4\n",
      "5\n",
      "6\n",
      "7\n",
      "8\n",
      "658.3609857061701\n"
     ]
    }
   ],
   "source": [
    "#Excercise 2:\n",
    "#If some outliers are introduced to the dataset, \n",
    "# what will happen to the Standard Deviation? Will it increase, decrease or remain the same?\n",
    "\n",
    "#Hypothesis: adding outliers will impact the standard deviation\n",
    "#Null Hyp: adding outliers will not impact SD\n",
    "\n",
    "my_num_array = np.array([8, 12, 16, 24, 4])\n",
    "my_num_array2= np.append(my_num_array,[2000,1,1]) # adding outliers\n",
    "\n",
    "mySD2 = find_SD(my_num_array2)\n",
    "\n",
    "#Hypothesis proven; SD changes when outliers are introduced. \n",
    "# The severity of the change depends on the weight of the outlier."
   ]
  },
  {
   "cell_type": "code",
   "execution_count": null,
   "metadata": {},
   "outputs": [],
   "source": [
    "#Ex 3\n",
    "#Suppose the below positively skewed distribution has a median of 30, which of the following statement is true?\n",
    "\n",
    "#A) Mean is greater than 30\n",
    "#B) Mean is less than 30\n",
    "#C) Mode is greater than 30\n",
    "#D) Mode is less than 30\n",
    "#E) Both A and D\n",
    "#F) Both B and C\n",
    "\n",
    "#E; the mean>30 and the mode<30, as can be observed on the graph plotted in the excercise.\n"
   ]
  },
  {
   "cell_type": "code",
   "execution_count": 18,
   "metadata": {},
   "outputs": [
    {
     "name": "stdout",
     "output_type": "stream",
     "text": [
      "27.0\n"
     ]
    }
   ],
   "source": [
    "#Ex 4\n",
    "#what is likely to be the median value \n",
    "array_1=[[10, 10, 10, 10, 11, 11, 12, 13, 14 ],\n",
    "[15, 15, 15, 16, 16, 16, 16, 16, 17, 18, 19, 19],\n",
    "[20, 20, 20, 21, 21, 21, 21, 21, 22, 22, 22, 23, 23, 23, 24, 24, 24],\n",
    "[26, 26, 26, 26, 26, 26, 26, 27, 27, 27, 27, 29, 29, 29, 29, 29, 29, 29, 29, 29],\n",
    "[30, 30, 30, 30, 30, 31, 31, 32, 32, 33, 33, 34, 34],\n",
    "[35, 35, 35, 37, 37, 37, 37, 39, 39, 39],\n",
    "[40, 40, 43, 43, 44, 44],\n",
    "[46, 46, 46, 47, 49],\n",
    "[52, 53, 54]]\n",
    "#ISSUE, inhomogenous array, have to use list comprehension to create flattened array\n",
    "\n",
    "import numpy as np\n",
    "def find_median(my_arr):\n",
    "    \"\"\"flattens inhomogenous arrays and finds median in an array of numbers\"\"\"\n",
    "    flat_array= [element for sublist in my_arr for element in sublist] \n",
    "    found_median=np.median(flat_array)\n",
    "    \n",
    "    return found_median\n",
    "\n",
    "check = find_median(array_1)\n",
    "print(check)\n",
    "\n",
    "#Median = 27\n"
   ]
  },
  {
   "cell_type": "code",
   "execution_count": null,
   "metadata": {},
   "outputs": [],
   "source": [
    "#Ex 5,6,7 no numpy allowed\n",
    "\n",
    "#5: what is the shape of the distribution?\n",
    "    #Shape is a tuple containing integers representing the size of each dimension of the array\n",
    "    #would return something like: (11,24,29,9,0,5,4,6,3,3,3,2,1,1,1,1,2,0)\n",
    "\n",
    "    \n",
    "#6: What central frequency statistical method would best represent the center of the data shown?\n",
    "    #Mode would be the best representation of the center of the data\n",
    "        #because 29 is most frequent, but due to quanitity of dimensions, the mean would massively misrepresent the center\n",
    "            #the median and mode would in this case look similar\n",
    "\n",
    "#7: How many individuals would have a salary of less than 10k?\n",
    "    #11+24 = 35\n",
    "\n",
    "\n",
    "\n"
   ]
  },
  {
   "cell_type": "code",
   "execution_count": 41,
   "metadata": {},
   "outputs": [
    {
     "name": "stdout",
     "output_type": "stream",
     "text": [
      "Median of original array: 8.0\n",
      "New median after changing a number: 27.5\n",
      "Mean of original array: 50.625\n",
      "Mean of changed array: 65.5\n",
      "Mode of original array: 78\n",
      "Mode of changed array: 78\n"
     ]
    }
   ],
   "source": [
    "#Ex 8:\n",
    "#We have a set of positive numbers. If a single value of the set is altered what must change?\n",
    "\n",
    "#A) Mean\n",
    "#B) Median\n",
    "#C) Mode\n",
    "#D) All of these\n",
    "\n",
    "###MEDIAN\n",
    "#Proof, median changes or not after a member of array is changed:\n",
    "test_arr=([[1,4,50,2,78,215,43,12],[1,2]]) #NOTE needed a nested array for median function to work, \n",
    "                                                #cba rewriting it because the list comprehension was cool \n",
    "\n",
    "og_median = find_median(test_arr)\n",
    "\n",
    "#changing the index 0 of the first dimension of the test array\n",
    "test_arr [0][0] = 100\n",
    "new_median = find_median(test_arr)\n",
    "\n",
    "print(f\"Median of original array: {og_median}\")\n",
    "print(f\"New median after changing a number: {new_median}\")\n",
    "\n",
    "#Conclusion: median changes if value is changed\n",
    "\n",
    "\n",
    "###MEAN\n",
    "test_arr =np.array([1,4,50,2,78,215,43,12])\n",
    "meanval = np.mean(test_arr)\n",
    "\n",
    "test_arr[0] = 120\n",
    "\n",
    "new_meanval = np.mean(test_arr)\n",
    "\n",
    "print(f\"Mean of original array: {meanval}\")\n",
    "print(f\"Mean of changed array: {new_meanval}\")\n",
    "\n",
    "#CONCLUSION\n",
    "#Mean changes if a single value changes\n",
    "\n",
    "\n",
    "###MODE\n",
    "test_arr =np.array([1,4,50,2,78,215,43,12])\n",
    "modeval = test_arr[int(len(test_arr)/2)] # picks out the central value of the array\n",
    "\n",
    "test_arr[6] = 120\n",
    "new_meanval = test_arr[int(len(test_arr)/2)]\n",
    "print(f\"Mode of original array: {modeval}\")\n",
    "print(f\"Mode of changed array: {new_meanval}\")\n",
    "\n",
    "\n",
    "#Conclusion: as long as the amount of values in a dimension of an array is consistent, the mean of the dimension wont change\n"
   ]
  },
  {
   "cell_type": "code",
   "execution_count": 51,
   "metadata": {},
   "outputs": [
    {
     "data": {
      "text/plain": [
       "10.44030650891055"
      ]
     },
     "execution_count": 51,
     "metadata": {},
     "output_type": "execute_result"
    }
   ],
   "source": [
    "#Ex 9: The chart shows hourly consultancy rate of 10 people. \n",
    "    #  Calculate the standard deviation of the salaries of the 10 employees.\n",
    "\n",
    "hour_rates = np.array([25,25,25,40,40,35,50,50,50,50])\n",
    "\n",
    "\n",
    "def find_SD2(this_array):\n",
    "    \"\"\"finds standard deviation using a for loop instead of while loop\"\"\"\n",
    "    meanval = np.mean(this_array)\n",
    "    var_calc = []\n",
    "    for element in this_array:\n",
    "        var_calc.append((element-meanval)**2)\n",
    "\n",
    "    #Add up all the calculation elements and divide them by the length of the array\n",
    "    total = 0\n",
    "    for x in var_calc:\n",
    "        total += x\n",
    "    \n",
    "    SD = (total/ (len(this_array)))**0.5\n",
    "    return SD \n",
    "\n",
    "find_SD2(hour_rates) #checked, SD is correct\n"
   ]
  },
  {
   "cell_type": "code",
   "execution_count": null,
   "metadata": {},
   "outputs": [],
   "source": [
    "#Ex 10:  (no numpy)\n",
    "\n",
    "#Which of the following random variables is discrete?\n",
    "\n",
    "#A) the length of time a battery lasts #Not exact, therefore not discrete\n",
    "#B) the number of pens purchased by a student in a year #descrete!\n",
    "#C) the percentage of cows in a cattle firm that have been vaccinated #Percentages can be reoccuring decimals so not discrete\n",
    "#D) the distance between a pair of towns #technically, distance can also have reoccuring decimals so also not discrete\n",
    "\n"
   ]
  },
  {
   "cell_type": "code",
   "execution_count": null,
   "metadata": {},
   "outputs": [],
   "source": [
    "#Exercise 11 (no Numpy)\n",
    "#Which of the below normal distributions will have the greatest spread?\n",
    "#mu = mean of the central distribution\n",
    "#sigma = represents the SD of the data set; \"width\" of distribution curve\n",
    "\n",
    "#A) mu=5, sigma =1.5\n",
    "#B) mu=10, sigma =1.0\n",
    "#C) mu=5, sigma =1.65  # as this has the greatest sigma, it will have the widest spread\n",
    "#D) mu=8, sigma =1.2\n",
    "#E) mu=10, sigma =1.6\n",
    "\n",
    "###CONCLUSION: C"
   ]
  },
  {
   "cell_type": "code",
   "execution_count": 14,
   "metadata": {},
   "outputs": [
    {
     "name": "stdout",
     "output_type": "stream",
     "text": [
      "[0. 0. 0. 0. 0. 0. 0. 0. 0. 0.]\n"
     ]
    }
   ],
   "source": [
    "#Advanced excercises:\n",
    "#3. Create a null vector of size 10 (★☆☆)\n",
    "# ex: 3 - `hint: np.zeros`\n",
    "nullarr = np.zeros(10)\n",
    "print(nullarr)\n",
    "\n"
   ]
  },
  {
   "cell_type": "code",
   "execution_count": 15,
   "metadata": {},
   "outputs": [
    {
     "name": "stdout",
     "output_type": "stream",
     "text": [
      "8\n"
     ]
    }
   ],
   "source": [
    "#### 4. How to find the memory size of any array (★☆☆)\n",
    "#`hint: size, itemsize`\n",
    "memsize= nullarr.itemsize\n",
    "print(memsize)\n"
   ]
  },
  {
   "cell_type": "code",
   "execution_count": 24,
   "metadata": {},
   "outputs": [
    {
     "name": "stdout",
     "output_type": "stream",
     "text": [
      "Help for np.add not found.\n"
     ]
    }
   ],
   "source": [
    "#### 5. How to get the documentation of the numpy add function from the command line? (★☆☆)\n",
    "#`hint: np.info`\n",
    "#in command line: python c- \"import numpy as np; np.info('np.add')\"\"\n"
   ]
  },
  {
   "cell_type": "code",
   "execution_count": 51,
   "metadata": {},
   "outputs": [
    {
     "name": "stdout",
     "output_type": "stream",
     "text": [
      "[0. 0. 0. 0. 1. 0. 0. 0. 0. 0.]\n"
     ]
    }
   ],
   "source": [
    "#### 6. Create a null vector of size 10 but the fifth value which is 1 (★☆☆)\n",
    "#`hint: array[4]`\n",
    "import numpy as np\n",
    "null_vec = np.zeros(10)\n",
    "null_vec[4] = 1\n",
    "print(null_vec)\n",
    "\n",
    "\n",
    "\n"
   ]
  },
  {
   "cell_type": "code",
   "execution_count": 36,
   "metadata": {},
   "outputs": [
    {
     "name": "stdout",
     "output_type": "stream",
     "text": [
      "[10 11 12 13 14 15 16 17 18 19 20 21 22 23 24 25 26 27 28 29 30 31 32 33\n",
      " 34 35 36 37 38 39 40 41 42 43 44 45 46 47 48 49]\n"
     ]
    }
   ],
   "source": [
    "#### 7. Create a vector with values ranging from 10 to 49 (★☆☆)\n",
    "#`hint: arange`\n",
    "myvec = np.arange(10,50)\n",
    "\n",
    "print(myvec)\n",
    "\n"
   ]
  },
  {
   "cell_type": "code",
   "execution_count": 37,
   "metadata": {},
   "outputs": [
    {
     "name": "stdout",
     "output_type": "stream",
     "text": [
      "[49 48 47 46 45 44 43 42 41 40 39 38 37 36 35 34 33 32 31 30 29 28 27 26\n",
      " 25 24 23 22 21 20 19 18 17 16 15 14 13 12 11 10]\n"
     ]
    }
   ],
   "source": [
    "#### 8. Reverse a vector (first element becomes last) (★☆☆)\n",
    "#`hint: array[::-1]`\n",
    "print(myvec[::-1])\n",
    "\n"
   ]
  },
  {
   "cell_type": "code",
   "execution_count": 55,
   "metadata": {},
   "outputs": [
    {
     "name": "stdout",
     "output_type": "stream",
     "text": [
      "[[0 1 2]\n",
      " [3 4 5]\n",
      " [6 7 8]]\n"
     ]
    }
   ],
   "source": [
    "#### 9. Create a 3x3 matrix with values ranging from 0 to 8 (★☆☆)\n",
    "#`hint: reshape`\n",
    "\n",
    "import numpy as np\n",
    "mymat = np.arange(9).reshape((3,3))\n",
    "print(mymat)\n"
   ]
  },
  {
   "cell_type": "code",
   "execution_count": 56,
   "metadata": {},
   "outputs": [
    {
     "name": "stdout",
     "output_type": "stream",
     "text": [
      "(array([0, 1, 4], dtype=int64),)\n"
     ]
    }
   ],
   "source": [
    "#### 10. Find indices of non-zero elements from [1,2,0,0,4,0] (★☆☆)\n",
    "#`hint: np.nonzero`\n",
    "sample_arr = [1,2,0,0,4,0]\n",
    "nonzeros = np.nonzero(sample_arr)\n",
    "print(nonzeros)\n",
    "\n"
   ]
  },
  {
   "cell_type": "code",
   "execution_count": 60,
   "metadata": {},
   "outputs": [
    {
     "name": "stdout",
     "output_type": "stream",
     "text": [
      "[[1. 0. 0.]\n",
      " [0. 1. 0.]\n",
      " [0. 0. 1.]]\n"
     ]
    }
   ],
   "source": [
    "#### 11. Create a 3x3 identity matrix (★☆☆)\n",
    "#`hint: np.eye`\n",
    "myidmat = np.eye(3,3)\n",
    "print(myidmat)\n",
    "\n"
   ]
  },
  {
   "cell_type": "code",
   "execution_count": 70,
   "metadata": {},
   "outputs": [
    {
     "name": "stdout",
     "output_type": "stream",
     "text": [
      "[[[0.69235969 0.8543645  0.94063818]\n",
      "  [0.06535833 0.05332337 0.7011381 ]\n",
      "  [0.19238112 0.54030083 0.33898461]]\n",
      "\n",
      " [[0.75121314 0.29874057 0.2306992 ]\n",
      "  [0.72627842 0.28990764 0.28061215]\n",
      "  [0.06167918 0.74662566 0.80643363]]\n",
      "\n",
      " [[0.09125929 0.71481931 0.39150035]\n",
      "  [0.14265556 0.19330756 0.18540854]\n",
      "  [0.81954498 0.76824471 0.96136592]]]\n"
     ]
    }
   ],
   "source": [
    "\n",
    "\n",
    "\n",
    "#### 12. Create a 3x3x3 array with random values (★☆☆)\n",
    "#`hint: np.random.random`\n",
    "my333 = np.random.random((3,3,3))\n",
    "print(my333)\n",
    "\n"
   ]
  },
  {
   "cell_type": "code",
   "execution_count": 72,
   "metadata": {},
   "outputs": [
    {
     "name": "stdout",
     "output_type": "stream",
     "text": [
      "This is my10by10 [[0.29573386 0.77949972 0.77346533 0.41910674 0.65400613 0.29637548\n",
      "  0.11003266 0.9879517  0.51411789 0.85212156]\n",
      " [0.93140956 0.7359688  0.92888757 0.07811341 0.08597428 0.81035285\n",
      "  0.3951996  0.66251509 0.81752101 0.63345871]\n",
      " [0.02036324 0.46142883 0.67773282 0.79180079 0.90540174 0.71990544\n",
      "  0.85317498 0.97663405 0.67950099 0.40573851]\n",
      " [0.09878978 0.49160445 0.17218839 0.19015105 0.78288357 0.42924732\n",
      "  0.40296269 0.28514498 0.73323864 0.98124564]\n",
      " [0.33622429 0.36143312 0.04579342 0.64815079 0.6591857  0.04757419\n",
      "  0.36627499 0.69768193 0.82758772 0.36109239]\n",
      " [0.74208696 0.79518706 0.30338137 0.23710581 0.9620714  0.6714673\n",
      "  0.55257314 0.94014105 0.89204565 0.94266567]\n",
      " [0.37652475 0.77276304 0.67760252 0.78076421 0.1226459  0.45379289\n",
      "  0.3020811  0.23186521 0.96211591 0.20785124]\n",
      " [0.97755035 0.34537052 0.69836979 0.70183111 0.73694936 0.43163184\n",
      "  0.78678803 0.81586579 0.87674122 0.19319006]\n",
      " [0.2443015  0.41090716 0.12114008 0.37574068 0.04977434 0.91540216\n",
      "  0.70697462 0.69312497 0.67353995 0.00999542]\n",
      " [0.47754639 0.56694047 0.55905617 0.15865049 0.47275656 0.45016357\n",
      "  0.6338954  0.45439301 0.06326448 0.76127119]]\n",
      "This is min: 0.009995420383978826\n",
      "This is max: 0.9879517017723745\n"
     ]
    }
   ],
   "source": [
    "#### 13. Create a 10x10 array with random values and find the minimum and maximum values (★☆☆)\n",
    "#`hint: min, max`\n",
    "my10by10 = np.random.random((10,10))\n",
    "print(\"This is my10by10\",my10by10)\n",
    "print(\"This is min:\",np.min(my10by10))\n",
    "print(\"This is max:\",np.max(my10by10))\n",
    "\n"
   ]
  },
  {
   "cell_type": "code",
   "execution_count": 73,
   "metadata": {},
   "outputs": [
    {
     "name": "stdout",
     "output_type": "stream",
     "text": [
      "0.4437648719000205\n"
     ]
    }
   ],
   "source": [
    "#### 14. Create a random vector of size 30 and find the mean value (★☆☆)\n",
    "#`hint: mean`\n",
    "meanarr = np.random.random(30)\n",
    "themean = np.mean(meanarr)\n",
    "print(themean)\n",
    "\n",
    "\n",
    "\n"
   ]
  },
  {
   "cell_type": "code",
   "execution_count": 87,
   "metadata": {},
   "outputs": [
    {
     "name": "stdout",
     "output_type": "stream",
     "text": [
      "[[1. 1. 1. 1. 1. 1. 1. 1. 1. 1.]\n",
      " [1. 1. 1. 1. 1. 1. 1. 1. 1. 1.]\n",
      " [1. 1. 1. 1. 1. 1. 1. 1. 1. 1.]\n",
      " [1. 1. 1. 1. 1. 1. 1. 1. 1. 1.]\n",
      " [1. 1. 1. 1. 1. 1. 1. 1. 1. 1.]\n",
      " [1. 1. 1. 1. 1. 1. 1. 1. 1. 1.]\n",
      " [1. 1. 1. 1. 1. 1. 1. 1. 1. 1.]\n",
      " [1. 1. 1. 1. 1. 1. 1. 1. 1. 1.]\n",
      " [1. 1. 1. 1. 1. 1. 1. 1. 1. 1.]\n",
      " [1. 1. 1. 1. 1. 1. 1. 1. 1. 1.]]\n",
      "[[1. 1. 1. 1. 1. 1. 1. 1. 1. 1.]\n",
      " [1. 0. 0. 0. 0. 0. 0. 0. 0. 1.]\n",
      " [1. 0. 0. 0. 0. 0. 0. 0. 0. 1.]\n",
      " [1. 0. 0. 0. 0. 0. 0. 0. 0. 1.]\n",
      " [1. 0. 0. 0. 0. 0. 0. 0. 0. 1.]\n",
      " [1. 0. 0. 0. 0. 0. 0. 0. 0. 1.]\n",
      " [1. 0. 0. 0. 0. 0. 0. 0. 0. 1.]\n",
      " [1. 0. 0. 0. 0. 0. 0. 0. 0. 1.]\n",
      " [1. 0. 0. 0. 0. 0. 0. 0. 0. 1.]\n",
      " [1. 1. 1. 1. 1. 1. 1. 1. 1. 1.]]\n"
     ]
    }
   ],
   "source": [
    "#### 15. Create a 2d array with 1 on the border and 0 inside (★☆☆)\n",
    "#`hint: array[1:-1, 1:-1]`\n",
    "my2D = np.ones((10,10))\n",
    "print(my2D)\n",
    "my2D[1:-1, 1:-1] = 0\n",
    "print(my2D)\n",
    "\n"
   ]
  },
  {
   "cell_type": "code",
   "execution_count": 95,
   "metadata": {},
   "outputs": [
    {
     "name": "stdout",
     "output_type": "stream",
     "text": [
      "[[1. 1. 1. 1. 1. 1. 1. 1. 1. 1.]\n",
      " [1. 1. 1. 1. 1. 1. 1. 1. 1. 1.]\n",
      " [1. 1. 1. 1. 1. 1. 1. 1. 1. 1.]\n",
      " [1. 1. 1. 1. 1. 1. 1. 1. 1. 1.]\n",
      " [1. 1. 1. 1. 1. 1. 1. 1. 1. 1.]\n",
      " [1. 1. 1. 1. 1. 1. 1. 1. 1. 1.]\n",
      " [1. 1. 1. 1. 1. 1. 1. 1. 1. 1.]\n",
      " [1. 1. 1. 1. 1. 1. 1. 1. 1. 1.]\n",
      " [1. 1. 1. 1. 1. 1. 1. 1. 1. 1.]\n",
      " [1. 1. 1. 1. 1. 1. 1. 1. 1. 1.]]\n",
      "[[0. 0. 0. 0. 0. 0. 0. 0. 0. 0. 0. 0.]\n",
      " [0. 1. 1. 1. 1. 1. 1. 1. 1. 1. 1. 0.]\n",
      " [0. 1. 1. 1. 1. 1. 1. 1. 1. 1. 1. 0.]\n",
      " [0. 1. 1. 1. 1. 1. 1. 1. 1. 1. 1. 0.]\n",
      " [0. 1. 1. 1. 1. 1. 1. 1. 1. 1. 1. 0.]\n",
      " [0. 1. 1. 1. 1. 1. 1. 1. 1. 1. 1. 0.]\n",
      " [0. 1. 1. 1. 1. 1. 1. 1. 1. 1. 1. 0.]\n",
      " [0. 1. 1. 1. 1. 1. 1. 1. 1. 1. 1. 0.]\n",
      " [0. 1. 1. 1. 1. 1. 1. 1. 1. 1. 1. 0.]\n",
      " [0. 1. 1. 1. 1. 1. 1. 1. 1. 1. 1. 0.]\n",
      " [0. 1. 1. 1. 1. 1. 1. 1. 1. 1. 1. 0.]\n",
      " [0. 0. 0. 0. 0. 0. 0. 0. 0. 0. 0. 0.]]\n"
     ]
    }
   ],
   "source": [
    "#### 16. How to add a border (filled with 0's) around an existing array? (★☆☆)\n",
    "#`hint: np.pad`\n",
    "\n",
    "mybigarr = np.ones((10,10))\n",
    "print(mybigarr)\n",
    "paddedarr= np.pad(mybigarr, pad_width= 1, mode = \"constant\")\n",
    "print(paddedarr)\n"
   ]
  },
  {
   "cell_type": "code",
   "execution_count": 96,
   "metadata": {},
   "outputs": [
    {
     "name": "stdout",
     "output_type": "stream",
     "text": [
      "nan\n",
      "False\n",
      "False\n",
      "nan\n",
      "True\n",
      "False\n"
     ]
    }
   ],
   "source": [
    "\n",
    "#### 17. What is the result of the following expression? (★☆☆)\n",
    "#```python\n",
    "#0 * np.nan # returns nan, as anything multiplied by a n\n",
    "#np.nan == np.nan #False, since nan is a float that is not equal to any other float\n",
    "#np.inf > np.nan #Returns False because it cannot participate in mathematical expressions\n",
    "#np.nan - np.nan #Returns np.nan because it cannot participate in mathematical expressions\n",
    "#np.nan in set([np.nan]) #True, as nan is in a set of nan\n",
    "#0.3 == 3 * 0.1 #True because maths, but in python False. The reason for this discrepancy lies in the way computers \n",
    "# represent floating-point numbers, specifically the IEEE 754 standard used by Python. \n",
    "# This standard allows for approximate representations of decimal numbers, which can lead to small errors.\n",
    "print(0 * np.nan)\n",
    "print(np.nan == np.nan)\n",
    "print(np.inf > np.nan)\n",
    "print(np.nan - np.nan)\n",
    "print(np.nan in set([np.nan]))\n",
    "print(0.3 == 3 * 0.1)\n",
    "#```\n",
    "#`hint: NaN = not a number, inf = infinity`\n"
   ]
  },
  {
   "cell_type": "code",
   "execution_count": 100,
   "metadata": {},
   "outputs": [
    {
     "name": "stdout",
     "output_type": "stream",
     "text": [
      "[[0 0 0 0 0]\n",
      " [1 0 0 0 0]\n",
      " [0 2 0 0 0]\n",
      " [0 0 3 0 0]\n",
      " [0 0 0 4 0]]\n"
     ]
    }
   ],
   "source": [
    "#### 18. Create a 5x5 matrix with values 1,2,3,4 just below the diagonal (★☆☆)\n",
    "#`hint: np.diag`\n",
    "thisarr = np.zeros((5,5))\n",
    "onesandsuch = [1,2,3,4]\n",
    "diagonals = np.diag((onesandsuch), -1) #neg for under middle diag, + for above diag\n",
    "print(diagonals)\n",
    "\n",
    "\n",
    "\n",
    "\n",
    "\n",
    "\n",
    "\n",
    "\n",
    "\n",
    "\n",
    "\n"
   ]
  },
  {
   "cell_type": "code",
   "execution_count": 102,
   "metadata": {},
   "outputs": [
    {
     "name": "stdout",
     "output_type": "stream",
     "text": [
      "[[0. 1. 0. 1. 0. 1. 0. 1.]\n",
      " [1. 0. 1. 0. 1. 0. 1. 0.]\n",
      " [0. 1. 0. 1. 0. 1. 0. 1.]\n",
      " [1. 0. 1. 0. 1. 0. 1. 0.]\n",
      " [0. 1. 0. 1. 0. 1. 0. 1.]\n",
      " [1. 0. 1. 0. 1. 0. 1. 0.]\n",
      " [0. 1. 0. 1. 0. 1. 0. 1.]\n",
      " [1. 0. 1. 0. 1. 0. 1. 0.]]\n"
     ]
    }
   ],
   "source": [
    "#### 19. Create a 8x8 matrix and fill it with a checkerboard pattern (★☆☆)\n",
    "#`hint: array[::2]`\n",
    "checkerboard = np.zeros((8,8))\n",
    "checkerboard[1::2,0::2] = 1\n",
    "checkerboard[0::2,1::2] = 1\n",
    "print(checkerboard)\n"
   ]
  },
  {
   "cell_type": "code",
   "execution_count": 104,
   "metadata": {},
   "outputs": [
    {
     "name": "stdout",
     "output_type": "stream",
     "text": [
      "(1, 5, 3)\n"
     ]
    }
   ],
   "source": [
    "#### 20. Consider a (6,7,8) shape array, what is the index (x,y,z) of the 100th element? (★☆☆)\n",
    "#`hint: np.unravel_index`\n",
    "#massivearr = np.arange(6,7,8)\n",
    "#hundth_el = np.unravel_index(massivearr, 3, \"C\")\n",
    "#print(hundth_el) #couldnt get it\n",
    "\n",
    "print(np.unravel_index(99,(6,7,8)))"
   ]
  }
 ],
 "metadata": {
  "kernelspec": {
   "display_name": "base",
   "language": "python",
   "name": "python3"
  },
  "language_info": {
   "codemirror_mode": {
    "name": "ipython",
    "version": 3
   },
   "file_extension": ".py",
   "mimetype": "text/x-python",
   "name": "python",
   "nbconvert_exporter": "python",
   "pygments_lexer": "ipython3",
   "version": "3.12.3"
  }
 },
 "nbformat": 4,
 "nbformat_minor": 2
}

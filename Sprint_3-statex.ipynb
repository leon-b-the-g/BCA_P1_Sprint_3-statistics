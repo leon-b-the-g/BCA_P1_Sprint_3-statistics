{
 "cells": [
  {
   "cell_type": "code",
   "execution_count": null,
   "metadata": {},
   "outputs": [],
   "source": [
    "from numpy import *\n",
    "\n",
    "my_numbers = (8, 12, 16, 24, 4)\n",
    "\n",
    "my_numbers_mean = 12.8\n",
    "\n",
    "#subtracting mean from each member of list then squaring. Add each result to get variance\n",
    "23.04 + 0.64 + 10.24 + 144 + 64 = 241.92\n",
    "\n",
    "#Square root variance to get SD\n",
    "#square root of 241.92 = 15.55 \n",
    "SD = 241.92\n",
    "\n",
    "\n",
    "\n"
   ]
  },
  {
   "cell_type": "code",
   "execution_count": 20,
   "metadata": {},
   "outputs": [
    {
     "name": "stdout",
     "output_type": "stream",
     "text": [
      "12.8\n",
      "1\n",
      "2\n",
      "3\n",
      "4\n",
      "5\n",
      "6.881860213634101\n"
     ]
    }
   ],
   "source": [
    "#Exercise 1:\n",
    "##Now with NUMPY!##\n",
    "\n",
    "import numpy as np\n",
    "import math\n",
    "\n",
    "my_num_array = np.array([8, 12, 16, 24, 4])\n",
    "\n",
    "\n",
    "\n",
    "def find_SD(num_array):\n",
    "    \"\"\"finds the standard deviation from an array of numbers\"\"\"\n",
    "    variances = []\n",
    "    counter = 0\n",
    "    meanval = np.mean(num_array)\n",
    "    print(meanval)\n",
    "    while len(num_array) > counter:\n",
    "        variances.append((num_array[counter]-meanval)**2) \n",
    "        counter += 1\n",
    "        print(counter)\n",
    "    SD = math.sqrt(sum(variances)/len(num_array))\n",
    "    return SD\n",
    "\n",
    "\n",
    "#Call SD function\n",
    "mySD = find_SD(my_num_array)\n",
    "\n",
    "print(mySD)"
   ]
  },
  {
   "cell_type": "code",
   "execution_count": 24,
   "metadata": {},
   "outputs": [
    {
     "name": "stdout",
     "output_type": "stream",
     "text": [
      "[   8   12   16   24    4 2000    1    1]\n",
      "258.25\n",
      "1\n",
      "2\n",
      "3\n",
      "4\n",
      "5\n",
      "6\n",
      "7\n",
      "8\n",
      "658.3609857061701\n"
     ]
    }
   ],
   "source": [
    "#Excercise 2:\n",
    "#If some outliers are introduced to the dataset, \n",
    "# what will happen to the Standard Deviation? Will it increase, decrease or remain the same?\n",
    "\n",
    "#Hypothesis: adding outliers will impact the standard deviation\n",
    "#Null Hyp: adding outliers will not impact SD\n",
    "\n",
    "my_num_array = np.array([8, 12, 16, 24, 4])\n",
    "my_num_array2= np.append(my_num_array,[2000,1,1]) # adding outliers\n",
    "\n",
    "mySD2 = find_SD(my_num_array2)\n",
    "\n",
    "#Hypothesis proven; SD changes when outliers are introduced. \n",
    "# The severity of the change depends on the weight of the outlier."
   ]
  },
  {
   "cell_type": "code",
   "execution_count": null,
   "metadata": {},
   "outputs": [],
   "source": [
    "#Ex 3\n",
    "#Suppose the below positively skewed distribution has a median of 30, which of the following statement is true?\n",
    "\n",
    "#A) Mean is greater than 30\n",
    "#B) Mean is less than 30\n",
    "#C) Mode is greater than 30\n",
    "#D) Mode is less than 30\n",
    "#E) Both A and D\n",
    "#F) Both B and C\n",
    "\n",
    "#E; the mean>30 and the mode<30, as can be observed on the graph plotted in the excercise.\n"
   ]
  },
  {
   "cell_type": "code",
   "execution_count": 18,
   "metadata": {},
   "outputs": [
    {
     "name": "stdout",
     "output_type": "stream",
     "text": [
      "27.0\n"
     ]
    }
   ],
   "source": [
    "#Ex 4\n",
    "#what is likely to be the median value \n",
    "array_1=[[10, 10, 10, 10, 11, 11, 12, 13, 14 ],\n",
    "[15, 15, 15, 16, 16, 16, 16, 16, 17, 18, 19, 19],\n",
    "[20, 20, 20, 21, 21, 21, 21, 21, 22, 22, 22, 23, 23, 23, 24, 24, 24],\n",
    "[26, 26, 26, 26, 26, 26, 26, 27, 27, 27, 27, 29, 29, 29, 29, 29, 29, 29, 29, 29],\n",
    "[30, 30, 30, 30, 30, 31, 31, 32, 32, 33, 33, 34, 34],\n",
    "[35, 35, 35, 37, 37, 37, 37, 39, 39, 39],\n",
    "[40, 40, 43, 43, 44, 44],\n",
    "[46, 46, 46, 47, 49],\n",
    "[52, 53, 54]]\n",
    "#ISSUE, inhomogenous array, have to use list comprehension to create flattened array\n",
    "\n",
    "import numpy as np\n",
    "def find_median(my_arr):\n",
    "    \"\"\"flattens inhomogenous arrays and finds median in an array of numbers\"\"\"\n",
    "    flat_array= [element for sublist in my_arr for element in sublist] \n",
    "    found_median=np.median(flat_array)\n",
    "    \n",
    "    return found_median\n",
    "\n",
    "check = find_median(array_1)\n",
    "print(check)\n",
    "\n",
    "#Median = 27\n"
   ]
  },
  {
   "cell_type": "code",
   "execution_count": null,
   "metadata": {},
   "outputs": [],
   "source": [
    "#Ex 5,6,7 no numpy allowed\n",
    "\n",
    "#5: what is the shape of the distribution?\n",
    "    #Shape is a tuple containing integers representing the size of each dimension of the array\n",
    "    #would return something like: (11,24,29,9,0,5,4,6,3,3,3,2,1,1,1,1,2,0)\n",
    "\n",
    "    \n",
    "#6: What central frequency statistical method would best represent the center of the data shown?\n",
    "    #Mode would be the best representation of the center of the data\n",
    "        #because 29 is most frequent, but due to quanitity of dimensions, the mean would massively misrepresent the center\n",
    "            #the median and mode would in this case look similar\n",
    "\n",
    "#7: How many individuals would have a salary of less than 10k?\n",
    "    #11+24 = 35\n",
    "\n",
    "\n",
    "\n"
   ]
  },
  {
   "cell_type": "code",
   "execution_count": 41,
   "metadata": {},
   "outputs": [
    {
     "name": "stdout",
     "output_type": "stream",
     "text": [
      "Median of original array: 8.0\n",
      "New median after changing a number: 27.5\n",
      "Mean of original array: 50.625\n",
      "Mean of changed array: 65.5\n",
      "Mode of original array: 78\n",
      "Mode of changed array: 78\n"
     ]
    }
   ],
   "source": [
    "#Ex 8:\n",
    "#We have a set of positive numbers. If a single value of the set is altered what must change?\n",
    "\n",
    "#A) Mean\n",
    "#B) Median\n",
    "#C) Mode\n",
    "#D) All of these\n",
    "\n",
    "###MEDIAN\n",
    "#Proof, median changes or not after a member of array is changed:\n",
    "test_arr=([[1,4,50,2,78,215,43,12],[1,2]]) #NOTE needed a nested array for median function to work, \n",
    "                                                #cba rewriting it because the list comprehension was cool \n",
    "\n",
    "og_median = find_median(test_arr)\n",
    "\n",
    "#changing the index 0 of the first dimension of the test array\n",
    "test_arr [0][0] = 100\n",
    "new_median = find_median(test_arr)\n",
    "\n",
    "print(f\"Median of original array: {og_median}\")\n",
    "print(f\"New median after changing a number: {new_median}\")\n",
    "\n",
    "#Conclusion: median changes if value is changed\n",
    "\n",
    "\n",
    "###MEAN\n",
    "test_arr =np.array([1,4,50,2,78,215,43,12])\n",
    "meanval = np.mean(test_arr)\n",
    "\n",
    "test_arr[0] = 120\n",
    "\n",
    "new_meanval = np.mean(test_arr)\n",
    "\n",
    "print(f\"Mean of original array: {meanval}\")\n",
    "print(f\"Mean of changed array: {new_meanval}\")\n",
    "\n",
    "#CONCLUSION\n",
    "#Mean changes if a single value changes\n",
    "\n",
    "\n",
    "###MODE\n",
    "test_arr =np.array([1,4,50,2,78,215,43,12])\n",
    "modeval = test_arr[int(len(test_arr)/2)] # picks out the central value of the array\n",
    "\n",
    "test_arr[6] = 120\n",
    "new_meanval = test_arr[int(len(test_arr)/2)]\n",
    "print(f\"Mode of original array: {modeval}\")\n",
    "print(f\"Mode of changed array: {new_meanval}\")\n",
    "\n",
    "\n",
    "#Conclusion: as long as the amount of values in a dimension of an array is consistent, the mean of the dimension wont change\n"
   ]
  },
  {
   "cell_type": "code",
   "execution_count": 51,
   "metadata": {},
   "outputs": [
    {
     "data": {
      "text/plain": [
       "10.44030650891055"
      ]
     },
     "execution_count": 51,
     "metadata": {},
     "output_type": "execute_result"
    }
   ],
   "source": [
    "#Ex 9: The chart shows hourly consultancy rate of 10 people. \n",
    "    #  Calculate the standard deviation of the salaries of the 10 employees.\n",
    "\n",
    "hour_rates = np.array([25,25,25,40,40,35,50,50,50,50])\n",
    "\n",
    "\n",
    "def find_SD2(this_array):\n",
    "    \"\"\"finds standard deviation using a for loop instead of while loop\"\"\"\n",
    "    meanval = np.mean(this_array)\n",
    "    var_calc = []\n",
    "    for element in this_array:\n",
    "        var_calc.append((element-meanval)**2)\n",
    "\n",
    "    #Add up all the calculation elements and divide them by the length of the array\n",
    "    total = 0\n",
    "    for x in var_calc:\n",
    "        total += x\n",
    "    \n",
    "    SD = (total/ (len(this_array)))**0.5\n",
    "    return SD \n",
    "\n",
    "find_SD2(hour_rates) #checked, SD is correct\n"
   ]
  },
  {
   "cell_type": "code",
   "execution_count": null,
   "metadata": {},
   "outputs": [],
   "source": [
    "#Ex 10:  (no numpy)\n",
    "\n",
    "#Which of the following random variables is discrete?\n",
    "\n",
    "#A) the length of time a battery lasts #Not exact, therefore not discrete\n",
    "#B) the number of pens purchased by a student in a year #descrete!\n",
    "#C) the percentage of cows in a cattle firm that have been vaccinated #Percentages can be reoccuring decimals so not discrete\n",
    "#D) the distance between a pair of towns #technically, distance can also have reoccuring decimals so also not discrete\n",
    "\n"
   ]
  },
  {
   "cell_type": "code",
   "execution_count": null,
   "metadata": {},
   "outputs": [],
   "source": [
    "#Exercise 11 (no Numpy)\n",
    "#Which of the below normal distributions will have the greatest spread?\n",
    "#mu = mean of the central distribution\n",
    "#sigma = represents the SD of the data set; \"width\" of distribution curve\n",
    "\n",
    "#A) mu=5, sigma =1.5\n",
    "#B) mu=10, sigma =1.0\n",
    "#C) mu=5, sigma =1.65  # as this has the greatest sigma, it will have the widest spread\n",
    "#D) mu=8, sigma =1.2\n",
    "#E) mu=10, sigma =1.6\n",
    "\n",
    "###CONCLUSION: C"
   ]
  },
  {
   "cell_type": "code",
   "execution_count": null,
   "metadata": {},
   "outputs": [],
   "source": []
  }
 ],
 "metadata": {
  "kernelspec": {
   "display_name": "base",
   "language": "python",
   "name": "python3"
  },
  "language_info": {
   "codemirror_mode": {
    "name": "ipython",
    "version": 3
   },
   "file_extension": ".py",
   "mimetype": "text/x-python",
   "name": "python",
   "nbconvert_exporter": "python",
   "pygments_lexer": "ipython3",
   "version": "3.12.3"
  }
 },
 "nbformat": 4,
 "nbformat_minor": 2
}

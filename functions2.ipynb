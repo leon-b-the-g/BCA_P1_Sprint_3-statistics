{
 "cells": [
  {
   "cell_type": "code",
   "execution_count": 1,
   "metadata": {},
   "outputs": [
    {
     "name": "stdout",
     "output_type": "stream",
     "text": [
      "[2, 6]\n"
     ]
    }
   ],
   "source": [
    "my_list = [1,2,3,5,7,6]\n",
    "\n",
    "def find_even(a_list):\n",
    "    evens = []\n",
    "    for element in a_list:\n",
    "        if element % 2 == 0:\n",
    "            evens.append(element)\n",
    "        else:\n",
    "            continue\n",
    "    return evens\n",
    "\n",
    "my_even_nums = find_even(my_list)\n",
    "\n",
    "print(my_even_nums)"
   ]
  },
  {
   "cell_type": "code",
   "execution_count": 7,
   "metadata": {},
   "outputs": [
    {
     "name": "stdout",
     "output_type": "stream",
     "text": [
      "[1 4 5]\n"
     ]
    }
   ],
   "source": []
  }
 ],
 "metadata": {
  "kernelspec": {
   "display_name": "base",
   "language": "python",
   "name": "python3"
  },
  "language_info": {
   "codemirror_mode": {
    "name": "ipython",
    "version": 3
   },
   "file_extension": ".py",
   "mimetype": "text/x-python",
   "name": "python",
   "nbconvert_exporter": "python",
   "pygments_lexer": "ipython3",
   "version": "3.12.3"
  }
 },
 "nbformat": 4,
 "nbformat_minor": 2
}
